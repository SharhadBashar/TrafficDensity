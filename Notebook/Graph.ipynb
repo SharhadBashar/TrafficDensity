{
 "cells": [
  {
   "cell_type": "code",
   "execution_count": 11,
   "metadata": {},
   "outputs": [],
   "source": [
    "import math\n",
    "import numpy as np\n",
    "import pandas as pd\n",
    "\n",
    "from map import map"
   ]
  },
  {
   "cell_type": "code",
   "execution_count": 24,
   "metadata": {},
   "outputs": [],
   "source": [
    "row = np.full(len(map), fill_value = math.inf)\n",
    "row = list(row)\n",
    "graph_dict = {}\n",
    "for intersection in map:\n",
    "    graph_dict[intersection] = row\n",
    "graph = pd.DataFrame(graph_dict, index = map.keys(), columns = map.keys())"
   ]
  },
  {
   "cell_type": "code",
   "execution_count": 26,
   "metadata": {},
   "outputs": [],
   "source": [
    "for intersection in map:\n",
    "    connection = []\n",
    "    if (len(map[intersection]['N']) > 0):\n",
    "        connection.append(map[intersection]['N'][0])\n",
    "    if (len(map[intersection]['E']) > 0):\n",
    "        connection.append(map[intersection]['E'][0])\n",
    "    if (len(map[intersection]['S']) > 0):\n",
    "        connection.append(map[intersection]['S'][0])\n",
    "    if (len(map[intersection]['W']) > 0):\n",
    "        connection.append(map[intersection]['W'][0])\n",
    "    for direction in connection:\n",
    "        graph[intersection][direction] = 0"
   ]
  },
  {
   "cell_type": "code",
   "execution_count": 29,
   "metadata": {},
   "outputs": [],
   "source": [
    "graph.to_pickle('graph.pkl')"
   ]
  },
  {
   "cell_type": "code",
   "execution_count": 4,
   "metadata": {},
   "outputs": [
    {
     "name": "stdout",
     "output_type": "stream",
     "text": [
      "0.9284074232277193\n"
     ]
    }
   ],
   "source": [
    "a = [0.9394539702078839\n",
    "0.934357538363619\n",
    "0.9406426130831398\n",
    "0.9555355565094684\n",
    "0.9387512365496563\n",
    "0.938743964056166\n",
    "0.9508982768102372\n",
    "0.9463651434246305\n",
    "0.9441187461270064\n",
    "0.8432743383740268\n",
    "]\n",
    "\n",
    "print(sum(a)/len(a))"
   ]
  },
  {
   "cell_type": "code",
   "execution_count": null,
   "metadata": {},
   "outputs": [],
   "source": []
  }
 ],
 "metadata": {
  "kernelspec": {
   "display_name": "Python 3",
   "language": "python",
   "name": "python3"
  },
  "language_info": {
   "codemirror_mode": {
    "name": "ipython",
    "version": 3
   },
   "file_extension": ".py",
   "mimetype": "text/x-python",
   "name": "python",
   "nbconvert_exporter": "python",
   "pygments_lexer": "ipython3",
   "version": "3.6.10"
  }
 },
 "nbformat": 4,
 "nbformat_minor": 2
}
